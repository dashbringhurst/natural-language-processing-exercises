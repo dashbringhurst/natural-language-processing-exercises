{
 "cells": [
  {
   "cell_type": "code",
   "execution_count": 1,
   "id": "dc35f436",
   "metadata": {},
   "outputs": [],
   "source": [
    "import re"
   ]
  },
  {
   "cell_type": "markdown",
   "id": "f0e90d58",
   "metadata": {},
   "source": [
    "Do your work for this exercise in a file named regex_exercises.\n",
    "\n",
    "Write a function named is_vowel. It should accept a string as input and use a regular expression to determine if the passed string is a vowel. While not explicity mentioned in the lesson, you can treat the result of re.search as a boolean value that indicates whether or not the regular expression matches the given string.\n",
    "\n",
    "\n",
    "Write a function named is_valid_username that accepts a string as input. A valid username starts with a lowercase letter, and only consists of lowercase letters, numbers, or the _ character. It should also be no longer than 32 characters. The function should return either True or False depending on whether the passed string is a valid username.\n",
    "\n",
    "\n",
    "    is_valid_username('aaaaaaaaaaaaaaaaaaaaaaaaaaaaaaaaa')\n",
    "    False\n",
    "\n",
    "    is_valid_username('codeup')\n",
    "    True\n",
    "\n",
    "    is_valid_username('Codeup')\n",
    "    False\n",
    "\n",
    "    is_valid_username('codeup123')\n",
    "    True\n",
    "\n",
    "    is_valid_username('1codeup')\n",
    "    False\n",
    "\n",
    "\n",
    "Write a regular expression to capture phone numbers. It should match all of the following:\n",
    "\n",
    "\n",
    "(210) 867 5309\n",
    "+1 210.867.5309\n",
    "867-5309\n",
    "210-867-5309\n",
    "\n",
    "\n",
    "Use regular expressions to convert the dates below to the standardized year-month-day format.\n",
    "\n",
    "\n",
    "02/04/19\n",
    "02/05/19\n",
    "02/06/19\n",
    "02/07/19\n",
    "02/08/19\n",
    "02/09/19\n",
    "02/10/19\n",
    "\n",
    "\n",
    "Write a regex to extract the various parts of these logfile lines:\n",
    "\n",
    "\n",
    "GET /api/v1/sales?page=86 [16/Apr/2019:193452+0000] HTTP/1.1 {200} 510348 \"python-requests/2.21.0\" 97.105.19.58\n",
    "POST /users_accounts/file-upload [16/Apr/2019:193452+0000] HTTP/1.1 {201} 42 \"User-Agent: Mozilla/5.0 (X11; Fedora; Fedora; Linux x86_64) AppleWebKit/537.36 (KHTML, like Gecko) Chrome/73.0.3683.86 Safari/537.36\" 97.105.19.58\n",
    "GET /api/v1/items?page=3 [16/Apr/2019:193453+0000] HTTP/1.1 {429} 3561 \"python-requests/2.21.0\" 97.105.19.58\n",
    "\n",
    "\n",
    "Bonus Exercise\n",
    "\n",
    "You can find a list of words on your mac at /usr/share/dict/words. Use this file to answer the following questions:\n",
    "\n",
    "\n",
    "- How many words have at least 3 vowels?\n",
    "- How many words have at least 3 vowels in a row?\n",
    "- How many words have at least 4 consonants in a row?\n",
    "- How many words start and end with the same letter?\n",
    "- How many words start and end with a vowel?\n",
    "- How many words contain the same letter 3 times in a row?\n",
    "- What other interesting patterns in words can you find?\n",
    "\n"
   ]
  },
  {
   "cell_type": "code",
   "execution_count": 2,
   "id": "ef417c47",
   "metadata": {},
   "outputs": [],
   "source": [
    "def show_all_matches(regexes, subject, re_length=6):\n",
    "    print('Sentence:')\n",
    "    print()\n",
    "    print('    {}'.format(subject))\n",
    "    print()\n",
    "    print(' regexp{} | matches'.format(' ' * (re_length - 6)))\n",
    "    print(' ------{} | -------'.format(' ' * (re_length - 6)))\n",
    "    for regexp in regexes:\n",
    "        fmt = ' {:<%d} | {!r}' % re_length\n",
    "        matches = re.findall(regexp, subject)\n",
    "        if len(matches) > 8:\n",
    "            matches = matches[:8] + ['...']\n",
    "        print(fmt.format(regexp, matches))"
   ]
  },
  {
   "cell_type": "code",
   "execution_count": 3,
   "id": "7bbd7942",
   "metadata": {},
   "outputs": [
    {
     "name": "stdout",
     "output_type": "stream",
     "text": [
      "Sentence:\n",
      "\n",
      "    Mary had a little lamb. 1 little lamb. Not 10, not 12, not 22, just one.\n",
      "\n",
      " regexp | matches\n",
      " ------ | -------\n",
      " a      | ['a', 'a', 'a', 'a', 'a']\n",
      " m      | ['m', 'm']\n",
      " M      | ['M']\n",
      " Mary   | ['Mary']\n",
      " little | ['little', 'little']\n",
      " 1      | ['1', '1', '1']\n",
      " 10     | ['10']\n",
      " 22     | ['22']\n"
     ]
    }
   ],
   "source": [
    "sentence = 'Mary had a little lamb. 1 little lamb. Not 10, not 12, not 22, just one.'\n",
    "\n",
    "show_all_matches([\n",
    "    r'a',\n",
    "    r'm',\n",
    "    r'M',\n",
    "    r'Mary',\n",
    "    r'little',\n",
    "    r'1',\n",
    "    r'10',\n",
    "    r'22'\n",
    "], sentence)"
   ]
  },
  {
   "cell_type": "code",
   "execution_count": 6,
   "id": "1504f65f",
   "metadata": {},
   "outputs": [
    {
     "name": "stdout",
     "output_type": "stream",
     "text": [
      "Sentence:\n",
      "\n",
      "    Mary had a little lamb. 1 little lamb. Not 10, not 12, not 22, just one.\n",
      "\n",
      " regexp | matches\n",
      " ------ | -------\n",
      " \\w     | ['M', 'a', 'r', 'y', 'h', 'a', 'd', 'a', '...']\n",
      " \\d     | ['1', '1', '0', '1', '2', '2', '2']\n",
      " \\s     | [' ', ' ', ' ', ' ', ' ', ' ', ' ', ' ', '...']\n",
      " .      | ['M', 'a', 'r', 'y', ' ', 'h', 'a', 'd', '...']\n",
      " \\.     | ['.', '.', '.']\n"
     ]
    }
   ],
   "source": [
    "res = [\n",
    "    r'\\w',\n",
    "    r'\\d',\n",
    "    r'\\s',\n",
    "    r'.', # matches every character\n",
    "    r'\\.', # a literal period\n",
    "]\n",
    "show_all_matches(res, sentence)"
   ]
  },
  {
   "cell_type": "code",
   "execution_count": 7,
   "id": "caab4c6e",
   "metadata": {},
   "outputs": [
    {
     "name": "stdout",
     "output_type": "stream",
     "text": [
      "Sentence:\n",
      "\n",
      "    Mary had a little lamb. 1 little lamb. Not 10, not 12, not 22, just one.\n",
      "\n",
      " regexp    | matches\n",
      " ------    | -------\n",
      " l\\w\\w\\w\\W | ['lamb.', 'lamb.']\n",
      " \\d\\d      | ['10', '12', '22']\n"
     ]
    }
   ],
   "source": [
    "show_all_matches([r'l\\w\\w\\w\\W', r'\\d\\d'], sentence, re_length=9)"
   ]
  },
  {
   "cell_type": "code",
   "execution_count": 8,
   "id": "336840da",
   "metadata": {},
   "outputs": [
    {
     "name": "stdout",
     "output_type": "stream",
     "text": [
      "Sentence:\n",
      "\n",
      "    Mary had a little lamb. 1 little lamb. Not 10, not 12, not 22, just one.\n",
      "\n",
      " regexp | matches\n",
      " ------ | -------\n",
      " \\d+    | ['1', '10', '12', '22']\n",
      "\n",
      "---\n",
      "\n",
      "Sentence:\n",
      "\n",
      "    aabbaaaa\n",
      "\n",
      " regexp | matches\n",
      " ------ | -------\n",
      " a{2,}  | ['aa', 'aaaa']\n",
      " a{2}   | ['aa', 'aa', 'aa']\n",
      " a{3,4} | ['aaaa']\n"
     ]
    }
   ],
   "source": [
    "show_all_matches([\n",
    "    r'\\d+'\n",
    "], sentence)\n",
    "\n",
    "print('\\n---\\n')\n",
    "\n",
    "show_all_matches([\n",
    "    r'a{2,}',\n",
    "    r'a{2}',\n",
    "    r'a{3,4}'\n",
    "], 'aabbaaaa')"
   ]
  },
  {
   "cell_type": "code",
   "execution_count": 9,
   "id": "4948013d",
   "metadata": {},
   "outputs": [
    {
     "name": "stdout",
     "output_type": "stream",
     "text": [
      "Sentence:\n",
      "\n",
      "    Mary had a little lamb. 1 little lamb. Not 10, not 12, not 22, just one.\n",
      "\n",
      " regexp       | matches\n",
      " ------       | -------\n",
      " [lt]         | ['l', 't', 't', 'l', 'l', 'l', 't', 't', '...']\n",
      " [lt]+        | ['l', 'ttl', 'l', 'l', 'ttl', 'l', 't', 't', '...']\n",
      " [^aeiou\\s\\.] | ['M', 'r', 'y', 'h', 'd', 'l', 't', 't', '...']\n",
      " [a-d]        | ['a', 'a', 'd', 'a', 'a', 'b', 'a', 'b']\n"
     ]
    }
   ],
   "source": [
    "show_all_matches([\n",
    "    r'[lt]',\n",
    "    r'[lt]+',\n",
    "    r'[^aeiou\\s\\.]', # any letter that's not a vowel\n",
    "    r'[a-d]'\n",
    "], sentence, re_length=12)"
   ]
  },
  {
   "cell_type": "code",
   "execution_count": 10,
   "id": "d30d7a2f",
   "metadata": {},
   "outputs": [
    {
     "name": "stdout",
     "output_type": "stream",
     "text": [
      "Sentence:\n",
      "\n",
      "    Mary had a little lamb. 1 little lamb. Not 10, not 12, not 22, just one.\n",
      "\n",
      " regexp | matches\n",
      " ------ | -------\n",
      " \\bo\\w+ | ['one']\n",
      " ^\\s    | []\n",
      " ^M     | ['M']\n",
      " \\.$    | ['.']\n"
     ]
    }
   ],
   "source": [
    "show_all_matches([\n",
    "    r'\\bo\\w+', # any word that starts with an 'o'\n",
    "    r'^\\s', # starts with a space\n",
    "    r'^M', # starts with 'M'\n",
    "    r'\\.$', # ends with a period\n",
    "], sentence)"
   ]
  },
  {
   "cell_type": "code",
   "execution_count": 11,
   "id": "d7a60054",
   "metadata": {},
   "outputs": [],
   "source": [
    "sentence = '''\n",
    "You can find us on the web at https://codeup.com. Our ip address is 123.123.123.123 (maybe).\n",
    "'''.strip()"
   ]
  },
  {
   "cell_type": "code",
   "execution_count": 12,
   "id": "92773de3",
   "metadata": {},
   "outputs": [
    {
     "data": {
      "text/plain": [
       "'123.123.123.123'"
      ]
     },
     "execution_count": 12,
     "metadata": {},
     "output_type": "execute_result"
    }
   ],
   "source": [
    "ip_re = r'\\d+(\\.\\d+){3}'\n",
    "\n",
    "match = re.search(ip_re, sentence)\n",
    "match[0]"
   ]
  },
  {
   "cell_type": "code",
   "execution_count": 13,
   "id": "b494c7e9",
   "metadata": {},
   "outputs": [
    {
     "name": "stdout",
     "output_type": "stream",
     "text": [
      "\n",
      "protocol: https\n",
      "domain:   codeup\n",
      "tld:      com\n",
      "\n"
     ]
    }
   ],
   "source": [
    "# simplified for demonstration, a real url to parse urls would be much more\n",
    "# complex\n",
    "url_re = r'(https?)://(\\w+)\\.(\\w+)'\n",
    "\n",
    "protocol, domain, tld = re.search(url_re, sentence).groups()\n",
    "\n",
    "print(f'''\n",
    "protocol: {protocol}\n",
    "domain:   {domain}\n",
    "tld:      {tld}\n",
    "''')"
   ]
  },
  {
   "cell_type": "code",
   "execution_count": 14,
   "id": "1e2af7f1",
   "metadata": {},
   "outputs": [
    {
     "name": "stdout",
     "output_type": "stream",
     "text": [
      "\n",
      "groups: ('https', 'com')\n",
      "referencing a group by name: com\n",
      "group dictionary: {'protocol': 'https', 'tld': 'com'}\n",
      "\n"
     ]
    }
   ],
   "source": [
    "url_re = r'(?P<protocol>https?)://(?:\\w+)\\.(?P<tld>\\w+)'\n",
    "\n",
    "match = re.search(url_re, sentence)\n",
    "\n",
    "print(f'''\n",
    "groups: {match.groups()}\n",
    "referencing a group by name: {match.group('tld')}\n",
    "group dictionary: {match.groupdict()}\n",
    "''')\n"
   ]
  },
  {
   "cell_type": "code",
   "execution_count": 15,
   "id": "02adf2dc",
   "metadata": {},
   "outputs": [
    {
     "data": {
      "text/plain": [
       "'123'"
      ]
     },
     "execution_count": 15,
     "metadata": {},
     "output_type": "execute_result"
    }
   ],
   "source": [
    "# remove anything that's not a digit\n",
    "re.sub(r'\\D', '', 'abc 123')"
   ]
  },
  {
   "cell_type": "code",
   "execution_count": 16,
   "id": "ad20dc64",
   "metadata": {},
   "outputs": [
    {
     "data": {
      "text/plain": [
       "'abc'"
      ]
     },
     "execution_count": 16,
     "metadata": {},
     "output_type": "execute_result"
    }
   ],
   "source": [
    "# remove anything that's not a letter\n",
    "re.sub(r'[^a-z]', '', 'abc 123')"
   ]
  },
  {
   "cell_type": "code",
   "execution_count": 17,
   "id": "ef38c16d",
   "metadata": {},
   "outputs": [
    {
     "data": {
      "text/plain": [
       "'b'"
      ]
     },
     "execution_count": 17,
     "metadata": {},
     "output_type": "execute_result"
    }
   ],
   "source": [
    "re.sub(r'.(.).', r'\\1', 'abc')"
   ]
  },
  {
   "cell_type": "code",
   "execution_count": 18,
   "id": "c916b361",
   "metadata": {},
   "outputs": [
    {
     "data": {
      "text/plain": [
       "'cba'"
      ]
     },
     "execution_count": 18,
     "metadata": {},
     "output_type": "execute_result"
    }
   ],
   "source": [
    "re.sub(r'(.)(.)(.)', r'\\3\\2\\1', 'abc')"
   ]
  },
  {
   "cell_type": "code",
   "execution_count": 19,
   "id": "20c6b343",
   "metadata": {},
   "outputs": [
    {
     "data": {
      "text/plain": [
       "'aX'"
      ]
     },
     "execution_count": 19,
     "metadata": {},
     "output_type": "execute_result"
    }
   ],
   "source": [
    "re.sub(r'.{2}$', 'X', 'abc')"
   ]
  },
  {
   "cell_type": "code",
   "execution_count": 20,
   "id": "97213536",
   "metadata": {},
   "outputs": [],
   "source": [
    "regexp = r'''\n",
    "[aeiou] (?# any vowel)\n",
    "[^aeiou] (?# followed by a non-vowel)\n",
    "'''"
   ]
  },
  {
   "cell_type": "markdown",
   "id": "2c9a9d45",
   "metadata": {},
   "source": [
    "The above is equivalent to the following:"
   ]
  },
  {
   "cell_type": "code",
   "execution_count": 21,
   "id": "a73e1306",
   "metadata": {},
   "outputs": [],
   "source": [
    "regexp = r'[aeiou][^aeiou]'"
   ]
  },
  {
   "cell_type": "markdown",
   "id": "396689ff",
   "metadata": {},
   "source": [
    "When the VERBOSE flag is set."
   ]
  },
  {
   "cell_type": "code",
   "execution_count": 22,
   "id": "ed7ad2a4",
   "metadata": {},
   "outputs": [],
   "source": [
    "subject = 'abc'"
   ]
  },
  {
   "cell_type": "code",
   "execution_count": 23,
   "id": "6a3ecd4d",
   "metadata": {},
   "outputs": [
    {
     "data": {
      "text/plain": [
       "['a']"
      ]
     },
     "execution_count": 23,
     "metadata": {},
     "output_type": "execute_result"
    }
   ],
   "source": [
    "regexp = r'a'\n",
    "\n",
    "re.findall(regexp, subject)"
   ]
  },
  {
   "cell_type": "code",
   "execution_count": 24,
   "id": "ce71264b",
   "metadata": {},
   "outputs": [
    {
     "data": {
      "text/plain": [
       "['a']"
      ]
     },
     "execution_count": 24,
     "metadata": {},
     "output_type": "execute_result"
    }
   ],
   "source": [
    "re.findall(r'a', 'abc')"
   ]
  },
  {
   "cell_type": "code",
   "execution_count": 25,
   "id": "ac482165",
   "metadata": {},
   "outputs": [
    {
     "data": {
      "text/plain": [
       "[]"
      ]
     },
     "execution_count": 25,
     "metadata": {},
     "output_type": "execute_result"
    }
   ],
   "source": [
    "regexp = r'd'\n",
    "\n",
    "re.findall(regexp, subject)"
   ]
  },
  {
   "cell_type": "code",
   "execution_count": 26,
   "id": "e7df4a74",
   "metadata": {},
   "outputs": [],
   "source": [
    "subject = 'Mary had a little lamb. 1 little lamb. Not 10, not 12, not 22, just one.'"
   ]
  },
  {
   "cell_type": "code",
   "execution_count": 27,
   "id": "b3a28bdf",
   "metadata": {},
   "outputs": [
    {
     "data": {
      "text/plain": [
       "[]"
      ]
     },
     "execution_count": 27,
     "metadata": {},
     "output_type": "execute_result"
    }
   ],
   "source": [
    "regexp = r'mary'\n",
    "\n",
    "re.findall(regexp, subject)"
   ]
  },
  {
   "cell_type": "code",
   "execution_count": 28,
   "id": "f87981c0",
   "metadata": {},
   "outputs": [
    {
     "data": {
      "text/plain": [
       "['Mary']"
      ]
     },
     "execution_count": 28,
     "metadata": {},
     "output_type": "execute_result"
    }
   ],
   "source": [
    "regexp = r'mary'\n",
    "\n",
    "re.findall(regexp, subject, re.IGNORECASE)"
   ]
  },
  {
   "cell_type": "code",
   "execution_count": 29,
   "id": "7b48d9ec",
   "metadata": {},
   "outputs": [
    {
     "data": {
      "text/plain": [
       "['little', 'little']"
      ]
     },
     "execution_count": 29,
     "metadata": {},
     "output_type": "execute_result"
    }
   ],
   "source": [
    "regexp = r'little'\n",
    "\n",
    "re.findall(regexp, subject)"
   ]
  },
  {
   "cell_type": "code",
   "execution_count": 30,
   "id": "9044516c",
   "metadata": {},
   "outputs": [
    {
     "data": {
      "text/plain": [
       "['1', '1', '1']"
      ]
     },
     "execution_count": 30,
     "metadata": {},
     "output_type": "execute_result"
    }
   ],
   "source": [
    "regexp = r'1'\n",
    "\n",
    "re.findall(regexp, subject)"
   ]
  },
  {
   "cell_type": "markdown",
   "id": "9928ea02",
   "metadata": {},
   "source": [
    "### Metacharacters\n",
    "\n",
    "- . : anything\n",
    "\n",
    "- \\w : any letter or number\n",
    "\n",
    "- \\W : anything that is NOT a letter or number\n",
    "\n",
    "- \\d : any digit\n",
    "\n",
    "- \\D : anything that is NOT a digit\n",
    "\n",
    "- \\s : any whitespace"
   ]
  },
  {
   "cell_type": "code",
   "execution_count": 41,
   "id": "1d7d72ef",
   "metadata": {},
   "outputs": [],
   "source": [
    "subject = 'abccc. 123'"
   ]
  },
  {
   "cell_type": "code",
   "execution_count": 42,
   "id": "05c2353e",
   "metadata": {},
   "outputs": [
    {
     "data": {
      "text/plain": [
       "['a', 'b', 'c', 'c', 'c', '.', ' ', '1', '2', '3']"
      ]
     },
     "execution_count": 42,
     "metadata": {},
     "output_type": "execute_result"
    }
   ],
   "source": [
    "regexp = r'.'\n",
    "\n",
    "re.findall(regexp, subject)"
   ]
  },
  {
   "cell_type": "code",
   "execution_count": 43,
   "id": "d3d56782",
   "metadata": {},
   "outputs": [
    {
     "data": {
      "text/plain": [
       "['a', 'b', 'c', 'c', 'c', '1', '2', '3']"
      ]
     },
     "execution_count": 43,
     "metadata": {},
     "output_type": "execute_result"
    }
   ],
   "source": [
    "regexp = r'\\w'\n",
    "\n",
    "re.findall(regexp, subject)"
   ]
  },
  {
   "cell_type": "code",
   "execution_count": 44,
   "id": "f1b0d6b3",
   "metadata": {},
   "outputs": [
    {
     "data": {
      "text/plain": [
       "['.', ' ']"
      ]
     },
     "execution_count": 44,
     "metadata": {},
     "output_type": "execute_result"
    }
   ],
   "source": [
    "regexp = r'\\W'\n",
    "\n",
    "re.findall(regexp, subject)"
   ]
  },
  {
   "cell_type": "code",
   "execution_count": 45,
   "id": "ae667deb",
   "metadata": {},
   "outputs": [
    {
     "data": {
      "text/plain": [
       "['1', '2', '3']"
      ]
     },
     "execution_count": 45,
     "metadata": {},
     "output_type": "execute_result"
    }
   ],
   "source": [
    "regexp = r'\\d'\n",
    "\n",
    "re.findall(regexp, subject)"
   ]
  },
  {
   "cell_type": "code",
   "execution_count": 46,
   "id": "9a66a968",
   "metadata": {},
   "outputs": [
    {
     "data": {
      "text/plain": [
       "['a', 'b', 'c', 'c', 'c', '.', ' ']"
      ]
     },
     "execution_count": 46,
     "metadata": {},
     "output_type": "execute_result"
    }
   ],
   "source": [
    "regexp = r'\\D'\n",
    "\n",
    "re.findall(regexp, subject)"
   ]
  },
  {
   "cell_type": "code",
   "execution_count": 47,
   "id": "ed3ffdac",
   "metadata": {},
   "outputs": [
    {
     "data": {
      "text/plain": [
       "[' ']"
      ]
     },
     "execution_count": 47,
     "metadata": {},
     "output_type": "execute_result"
    }
   ],
   "source": [
    "regexp = r'\\s'\n",
    "\n",
    "re.findall(regexp, subject)"
   ]
  },
  {
   "cell_type": "code",
   "execution_count": 48,
   "id": "8eee5a84",
   "metadata": {},
   "outputs": [
    {
     "data": {
      "text/plain": [
       "['ab', 'cc', '12']"
      ]
     },
     "execution_count": 48,
     "metadata": {},
     "output_type": "execute_result"
    }
   ],
   "source": [
    "regexp = r'\\w\\w'\n",
    "\n",
    "re.findall(regexp, subject)"
   ]
  },
  {
   "cell_type": "code",
   "execution_count": 49,
   "id": "ce83df8c",
   "metadata": {},
   "outputs": [
    {
     "data": {
      "text/plain": [
       "['.']"
      ]
     },
     "execution_count": 49,
     "metadata": {},
     "output_type": "execute_result"
    }
   ],
   "source": [
    "regexp = r'\\.'\n",
    "\n",
    "re.findall(regexp, subject)"
   ]
  },
  {
   "cell_type": "code",
   "execution_count": 50,
   "id": "ca2f865a",
   "metadata": {},
   "outputs": [],
   "source": [
    "subject = 'c 1'"
   ]
  },
  {
   "cell_type": "code",
   "execution_count": 52,
   "id": "9b8f5266",
   "metadata": {},
   "outputs": [
    {
     "data": {
      "text/plain": [
       "['c 1']"
      ]
     },
     "execution_count": 52,
     "metadata": {},
     "output_type": "execute_result"
    }
   ],
   "source": [
    "regexp = r'\\w\\s\\d'\n",
    "\n",
    "re.findall(regexp, subject)"
   ]
  },
  {
   "cell_type": "markdown",
   "id": "cd10f2ef",
   "metadata": {},
   "source": [
    "### Repeating\n",
    "\n",
    "- {  } : custom number of repetitions\n",
    "    - {x} : exactly x repetitions\n",
    "    - {x,} : x or more repetitions\n",
    "    - {x,y} : between x and y repetitions\n",
    "- * : zero or more\n",
    "- + : one or more\n",
    "- ? : optional\n",
    "- ? : greedy\n"
   ]
  },
  {
   "cell_type": "code",
   "execution_count": 53,
   "id": "44df8121",
   "metadata": {},
   "outputs": [],
   "source": [
    "subject = 'abc 12345'"
   ]
  },
  {
   "cell_type": "code",
   "execution_count": 54,
   "id": "d78ba94e",
   "metadata": {},
   "outputs": [
    {
     "data": {
      "text/plain": [
       "['abc 1', '2345']"
      ]
     },
     "execution_count": 54,
     "metadata": {},
     "output_type": "execute_result"
    }
   ],
   "source": [
    "regexp = r'\\w+\\s?\\d'\n",
    "\n",
    "re.findall(regexp, subject)"
   ]
  },
  {
   "cell_type": "code",
   "execution_count": 56,
   "id": "f48a1408",
   "metadata": {},
   "outputs": [
    {
     "data": {
      "text/plain": [
       "['abc', '12345']"
      ]
     },
     "execution_count": 56,
     "metadata": {},
     "output_type": "execute_result"
    }
   ],
   "source": [
    "regexp = r'\\w+'\n",
    "\n",
    "re.findall(regexp, subject)"
   ]
  },
  {
   "cell_type": "code",
   "execution_count": 58,
   "id": "f2275403",
   "metadata": {},
   "outputs": [
    {
     "data": {
      "text/plain": [
       "['abc ', '12345']"
      ]
     },
     "execution_count": 58,
     "metadata": {},
     "output_type": "execute_result"
    }
   ],
   "source": [
    "regexp = r'\\w+\\s?'\n",
    "\n",
    "re.findall(regexp, subject)"
   ]
  },
  {
   "cell_type": "code",
   "execution_count": 59,
   "id": "791e2e3e",
   "metadata": {},
   "outputs": [
    {
     "data": {
      "text/plain": [
       "['abc 1', '2345']"
      ]
     },
     "execution_count": 59,
     "metadata": {},
     "output_type": "execute_result"
    }
   ],
   "source": [
    "regexp = r'\\w+\\s?\\d'\n",
    "\n",
    "re.findall(regexp, subject)"
   ]
  },
  {
   "cell_type": "code",
   "execution_count": 60,
   "id": "30962415",
   "metadata": {},
   "outputs": [],
   "source": [
    "subject = '''Codeup, founded in 2014, is located at 600 Navarro St. Suite 350, San Antonio, TX 78230.\n",
    "                You can find us online at http://codeup.com\n",
    "                and our alumni portal is located at https://alumni.codeup.com.'''"
   ]
  },
  {
   "cell_type": "code",
   "execution_count": 62,
   "id": "78c5af6b",
   "metadata": {},
   "outputs": [
    {
     "data": {
      "text/plain": [
       "['2014', '600', '350', '78230']"
      ]
     },
     "execution_count": 62,
     "metadata": {},
     "output_type": "execute_result"
    }
   ],
   "source": [
    "regexp = r'\\d+'\n",
    "\n",
    "re.findall(regexp, subject)"
   ]
  },
  {
   "cell_type": "code",
   "execution_count": 64,
   "id": "1ce74076",
   "metadata": {},
   "outputs": [
    {
     "data": {
      "text/plain": [
       "['78230']"
      ]
     },
     "execution_count": 64,
     "metadata": {},
     "output_type": "execute_result"
    }
   ],
   "source": [
    "regexp = r'\\d{5}'\n",
    "re.findall(regexp, subject)"
   ]
  },
  {
   "cell_type": "code",
   "execution_count": 67,
   "id": "f47f9de2",
   "metadata": {},
   "outputs": [
    {
     "data": {
      "text/plain": [
       "['2014', '78230']"
      ]
     },
     "execution_count": 67,
     "metadata": {},
     "output_type": "execute_result"
    }
   ],
   "source": [
    "regexp = r'\\d{4,}'\n",
    "\n",
    "re.findall(regexp, subject)"
   ]
  },
  {
   "cell_type": "code",
   "execution_count": 69,
   "id": "617c47d0",
   "metadata": {},
   "outputs": [
    {
     "data": {
      "text/plain": [
       "['2014', '600', '350', '7823']"
      ]
     },
     "execution_count": 69,
     "metadata": {},
     "output_type": "execute_result"
    }
   ],
   "source": [
    "regexp = r'\\d{3,4}'\n",
    "\n",
    "re.findall(regexp, subject)"
   ]
  },
  {
   "cell_type": "code",
   "execution_count": 71,
   "id": "776dcf86",
   "metadata": {},
   "outputs": [
    {
     "data": {
      "text/plain": [
       "['http://', 'https://']"
      ]
     },
     "execution_count": 71,
     "metadata": {},
     "output_type": "execute_result"
    }
   ],
   "source": [
    "regexp = r'http://|https://'\n",
    "\n",
    "re.findall(regexp, subject)"
   ]
  },
  {
   "cell_type": "code",
   "execution_count": 73,
   "id": "9eca3ecc",
   "metadata": {},
   "outputs": [
    {
     "data": {
      "text/plain": [
       "['http://', 'https://']"
      ]
     },
     "execution_count": 73,
     "metadata": {},
     "output_type": "execute_result"
    }
   ],
   "source": [
    "regexp = r'https?://'\n",
    "\n",
    "re.findall(regexp, subject)"
   ]
  },
  {
   "cell_type": "code",
   "execution_count": 76,
   "id": "34fb5801",
   "metadata": {},
   "outputs": [
    {
     "data": {
      "text/plain": [
       "['http://', 'https://']"
      ]
     },
     "execution_count": 76,
     "metadata": {},
     "output_type": "execute_result"
    }
   ],
   "source": [
    "regexp = r'https*://'\n",
    "\n",
    "re.findall(regexp, subject)"
   ]
  },
  {
   "cell_type": "markdown",
   "id": "6af1ca49",
   "metadata": {},
   "source": [
    "### Any of / None of\n",
    "\n",
    "- [  ] : will match anything inside of\n",
    "- [^] : will match anything NOT inside of\n",
    "- [-] : will match a range of values inside of"
   ]
  },
  {
   "cell_type": "code",
   "execution_count": 82,
   "id": "20c19c7b",
   "metadata": {},
   "outputs": [],
   "source": [
    "subject = 'abc 12345 1bc'"
   ]
  },
  {
   "cell_type": "code",
   "execution_count": 83,
   "id": "eaf3cd2d",
   "metadata": {},
   "outputs": [
    {
     "data": {
      "text/plain": [
       "['a', '1', '1']"
      ]
     },
     "execution_count": 83,
     "metadata": {},
     "output_type": "execute_result"
    }
   ],
   "source": [
    "regexp = r'[a1]'\n",
    "\n",
    "re.findall(regexp, subject)"
   ]
  },
  {
   "cell_type": "code",
   "execution_count": 84,
   "id": "00a615b8",
   "metadata": {},
   "outputs": [
    {
     "data": {
      "text/plain": [
       "['abc', '1bc']"
      ]
     },
     "execution_count": 84,
     "metadata": {},
     "output_type": "execute_result"
    }
   ],
   "source": [
    "regexp = r'[a1][b2][c]'\n",
    "\n",
    "re.findall(regexp, subject)"
   ]
  },
  {
   "cell_type": "code",
   "execution_count": 85,
   "id": "13efdfb4",
   "metadata": {},
   "outputs": [
    {
     "data": {
      "text/plain": [
       "['abc', '123', '1bc']"
      ]
     },
     "execution_count": 85,
     "metadata": {},
     "output_type": "execute_result"
    }
   ],
   "source": [
    "regexp = r'[a1][b2][c3]'\n",
    "\n",
    "re.findall(regexp, subject)"
   ]
  },
  {
   "cell_type": "code",
   "execution_count": 86,
   "id": "90173b05",
   "metadata": {},
   "outputs": [
    {
     "data": {
      "text/plain": [
       "['a', 'b', 'c', 'b', 'c']"
      ]
     },
     "execution_count": 86,
     "metadata": {},
     "output_type": "execute_result"
    }
   ],
   "source": [
    "regexp = r'[a-z]'\n",
    "\n",
    "re.findall(regexp, subject)"
   ]
  },
  {
   "cell_type": "code",
   "execution_count": 87,
   "id": "2235866a",
   "metadata": {},
   "outputs": [
    {
     "data": {
      "text/plain": [
       "['a', 'b', 'c', '1', '2', '3', '4', '5', '1', 'b', 'c']"
      ]
     },
     "execution_count": 87,
     "metadata": {},
     "output_type": "execute_result"
    }
   ],
   "source": [
    "regexp = r'[a-z0-9]'\n",
    "\n",
    "re.findall(regexp, subject)"
   ]
  },
  {
   "cell_type": "code",
   "execution_count": 88,
   "id": "507af3e3",
   "metadata": {},
   "outputs": [
    {
     "data": {
      "text/plain": [
       "['1b']"
      ]
     },
     "execution_count": 88,
     "metadata": {},
     "output_type": "execute_result"
    }
   ],
   "source": [
    "regexp = r'[0-9][a-z]'\n",
    "\n",
    "re.findall(regexp, subject)"
   ]
  },
  {
   "cell_type": "code",
   "execution_count": 90,
   "id": "0c6c6c12",
   "metadata": {},
   "outputs": [
    {
     "data": {
      "text/plain": [
       "[' 12345 1']"
      ]
     },
     "execution_count": 90,
     "metadata": {},
     "output_type": "execute_result"
    }
   ],
   "source": [
    "regexp = r'[^a-z]+'\n",
    "\n",
    "re.findall(regexp, subject)"
   ]
  },
  {
   "cell_type": "code",
   "execution_count": 92,
   "id": "69d0e7ce",
   "metadata": {},
   "outputs": [
    {
     "data": {
      "text/plain": [
       "['5 ', '1b']"
      ]
     },
     "execution_count": 92,
     "metadata": {},
     "output_type": "execute_result"
    }
   ],
   "source": [
    "regexp = r'\\d[^2-5]'\n",
    "\n",
    "re.findall(regexp, subject)"
   ]
  },
  {
   "cell_type": "code",
   "execution_count": 96,
   "id": "ff290f6e",
   "metadata": {},
   "outputs": [
    {
     "data": {
      "text/plain": [
       "[' 1', ' 1']"
      ]
     },
     "execution_count": 96,
     "metadata": {},
     "output_type": "execute_result"
    }
   ],
   "source": [
    "regexp = r'[^2-5]\\d'\n",
    "\n",
    "re.findall(regexp, subject)"
   ]
  },
  {
   "cell_type": "markdown",
   "id": "ad5daa50",
   "metadata": {},
   "source": [
    "### Anchors\n",
    "\n",
    "- ^ : starts with\n",
    "- $ : ends with\n",
    "- \\b : word boundary"
   ]
  },
  {
   "cell_type": "code",
   "execution_count": 97,
   "id": "58055e28",
   "metadata": {},
   "outputs": [],
   "source": [
    "subject = '''Codeup, founded in 2014, is located at 600 Navarro St. Suite 350, San Antonio, TX 78230.\n",
    "                You can find us online at http://codeup.com\n",
    "                and our alumni portal is located at https://alumni.codeup.com.'''"
   ]
  },
  {
   "cell_type": "code",
   "execution_count": 99,
   "id": "543b8797",
   "metadata": {},
   "outputs": [
    {
     "data": {
      "text/plain": [
       "['2014', '600', '350']"
      ]
     },
     "execution_count": 99,
     "metadata": {},
     "output_type": "execute_result"
    }
   ],
   "source": [
    "regexp = r'\\b\\d{3,4}\\b'\n",
    "\n",
    "re.findall(regexp, subject)"
   ]
  },
  {
   "cell_type": "code",
   "execution_count": 100,
   "id": "5cefef62",
   "metadata": {},
   "outputs": [],
   "source": [
    "subject = 'kiwi aardvark banana codeup data science academy extra'"
   ]
  },
  {
   "cell_type": "code",
   "execution_count": 103,
   "id": "119a2d30",
   "metadata": {},
   "outputs": [
    {
     "data": {
      "text/plain": [
       "['aardvark', 'academy', 'extra']"
      ]
     },
     "execution_count": 103,
     "metadata": {},
     "output_type": "execute_result"
    }
   ],
   "source": [
    "regexp = r'\\b[aeiou]\\w+'\n",
    "\n",
    "re.findall(regexp, subject)"
   ]
  },
  {
   "cell_type": "code",
   "execution_count": 104,
   "id": "4ad1a558",
   "metadata": {},
   "outputs": [],
   "source": [
    "# split words to use anchor ^"
   ]
  },
  {
   "cell_type": "code",
   "execution_count": 105,
   "id": "facfcfcd",
   "metadata": {},
   "outputs": [
    {
     "data": {
      "text/plain": [
       "['kiwi', 'aardvark', 'banana', 'codeup', 'data', 'science', 'academy', 'extra']"
      ]
     },
     "execution_count": 105,
     "metadata": {},
     "output_type": "execute_result"
    }
   ],
   "source": [
    "subjects = subject.split()\n",
    "subjects"
   ]
  },
  {
   "cell_type": "code",
   "execution_count": 111,
   "id": "eb240993",
   "metadata": {},
   "outputs": [
    {
     "name": "stdout",
     "output_type": "stream",
     "text": [
      "[]\n",
      "['aardvark']\n",
      "[]\n",
      "[]\n",
      "[]\n",
      "[]\n",
      "['academy']\n",
      "['extra']\n"
     ]
    }
   ],
   "source": [
    "regexp = r'^[aeiou]\\w+'\n",
    "\n",
    "for subject in subjects:\n",
    "    print(re.findall(regexp, subject))"
   ]
  },
  {
   "cell_type": "code",
   "execution_count": 113,
   "id": "af4d9aec",
   "metadata": {},
   "outputs": [
    {
     "name": "stdout",
     "output_type": "stream",
     "text": [
      "['kiwi']\n",
      "[]\n",
      "['banana']\n",
      "[]\n",
      "['data']\n",
      "['science']\n",
      "[]\n",
      "['extra']\n"
     ]
    }
   ],
   "source": [
    "regexp = r'\\w+[aeiou]$'\n",
    "\n",
    "for subject in subjects:\n",
    "    print(re.findall(regexp, subject))"
   ]
  },
  {
   "cell_type": "markdown",
   "id": "58c8fe44",
   "metadata": {},
   "source": [
    "### Capture Groups\n",
    "\n",
    "- (  ) : grab what is contained in parentheses"
   ]
  },
  {
   "cell_type": "code",
   "execution_count": 137,
   "id": "ace2b594",
   "metadata": {},
   "outputs": [],
   "source": [
    "subject = '''You can find us on the web at http://codeup.com. Our ip address is 123.123.123.123 (maybe).'''"
   ]
  },
  {
   "cell_type": "code",
   "execution_count": 129,
   "id": "2eed81a8",
   "metadata": {},
   "outputs": [
    {
     "data": {
      "text/plain": [
       "['codeup']"
      ]
     },
     "execution_count": 129,
     "metadata": {},
     "output_type": "execute_result"
    }
   ],
   "source": [
    "regexp = r'http://(\\w+).com'\n",
    "\n",
    "re.findall(regexp, subject)"
   ]
  },
  {
   "cell_type": "code",
   "execution_count": 131,
   "id": "c6780b44",
   "metadata": {},
   "outputs": [
    {
     "data": {
      "text/plain": [
       "['Our ip address is 123.123.123.123 (maybe).']"
      ]
     },
     "execution_count": 131,
     "metadata": {},
     "output_type": "execute_result"
    }
   ],
   "source": [
    "regexp = r'\\.com\\. (.+)'\n",
    "\n",
    "re.findall(regexp, subject)"
   ]
  },
  {
   "cell_type": "code",
   "execution_count": 133,
   "id": "6c54f416",
   "metadata": {},
   "outputs": [
    {
     "data": {
      "text/plain": [
       "['Our ip address is 123.123.123.123 (maybe).']"
      ]
     },
     "execution_count": 133,
     "metadata": {},
     "output_type": "execute_result"
    }
   ],
   "source": [
    "regexp = r'\\.\\s(.+)'\n",
    "\n",
    "re.findall(regexp, subject)"
   ]
  },
  {
   "cell_type": "code",
   "execution_count": 138,
   "id": "da72d8e7",
   "metadata": {},
   "outputs": [
    {
     "data": {
      "text/plain": [
       "['123.123.123.123']"
      ]
     },
     "execution_count": 138,
     "metadata": {},
     "output_type": "execute_result"
    }
   ],
   "source": [
    "regexp = r'Our ip address is (.*)\\s'\n",
    "\n",
    "re.findall(regexp, subject)"
   ]
  },
  {
   "cell_type": "code",
   "execution_count": 139,
   "id": "c16dd813",
   "metadata": {},
   "outputs": [
    {
     "data": {
      "text/plain": [
       "['123.123.123.123']"
      ]
     },
     "execution_count": 139,
     "metadata": {},
     "output_type": "execute_result"
    }
   ],
   "source": [
    "regexp = r'Our ip address is (.*?)\\s'\n",
    "\n",
    "re.findall(regexp, subject)"
   ]
  },
  {
   "cell_type": "code",
   "execution_count": 140,
   "id": "d6739ebe",
   "metadata": {},
   "outputs": [
    {
     "data": {
      "text/plain": [
       "[('codeup', '123.123.123.123')]"
      ]
     },
     "execution_count": 140,
     "metadata": {},
     "output_type": "execute_result"
    }
   ],
   "source": [
    "regexp = r'http://(\\w+).com. Our ip address is (.*?)\\s'\n",
    "\n",
    "re.findall(regexp, subject)"
   ]
  },
  {
   "cell_type": "code",
   "execution_count": 141,
   "id": "f0ef85e7",
   "metadata": {},
   "outputs": [
    {
     "data": {
      "text/plain": [
       "[('codeup', '123.123.123.123')]"
      ]
     },
     "execution_count": 141,
     "metadata": {},
     "output_type": "execute_result"
    }
   ],
   "source": [
    "regexp = r'\\/(\\w+).*?(\\d.*?)\\s'\n",
    "\n",
    "re.findall(regexp, subject)"
   ]
  },
  {
   "cell_type": "markdown",
   "id": "86ab414e",
   "metadata": {},
   "source": [
    "### Non Capture Group\n",
    "\n",
    "- ? : to ignore a capture group; also called shy"
   ]
  },
  {
   "cell_type": "code",
   "execution_count": 144,
   "id": "e5f4ce1b",
   "metadata": {},
   "outputs": [
    {
     "data": {
      "text/plain": [
       "['123.123.123.123']"
      ]
     },
     "execution_count": 144,
     "metadata": {},
     "output_type": "execute_result"
    }
   ],
   "source": [
    "regexp = r'((?:\\d{3}\\.){3}\\d+)'\n",
    "\n",
    "re.findall(regexp, subject)"
   ]
  },
  {
   "cell_type": "markdown",
   "id": "87d0cb24",
   "metadata": {},
   "source": [
    "## Exercises"
   ]
  },
  {
   "cell_type": "markdown",
   "id": "756dacf9",
   "metadata": {},
   "source": [
    "Write a function named is_vowel. It should accept a string as input and use a regular expression to determine if the passed string is a vowel. While not explicity mentioned in the lesson, you can treat the result of re.search as a boolean value that indicates whether or not the regular expression matches the given string.\n"
   ]
  },
  {
   "cell_type": "code",
   "execution_count": 536,
   "id": "d64c1f47",
   "metadata": {},
   "outputs": [],
   "source": [
    "def is_vowel(string):\n",
    "    regexp = r'^[aeiouAEIOU]{1}$'\n",
    "    if re.search(regexp, string):\n",
    "        print(True)\n",
    "    else:\n",
    "        print(False)"
   ]
  },
  {
   "cell_type": "code",
   "execution_count": 537,
   "id": "66a9b6b7",
   "metadata": {},
   "outputs": [
    {
     "name": "stdout",
     "output_type": "stream",
     "text": [
      "True\n"
     ]
    }
   ],
   "source": [
    "is_vowel('a')"
   ]
  },
  {
   "cell_type": "code",
   "execution_count": 538,
   "id": "e543b02d",
   "metadata": {},
   "outputs": [
    {
     "name": "stdout",
     "output_type": "stream",
     "text": [
      "False\n"
     ]
    }
   ],
   "source": [
    "is_vowel('w')"
   ]
  },
  {
   "cell_type": "code",
   "execution_count": 539,
   "id": "d0f7596f",
   "metadata": {},
   "outputs": [
    {
     "name": "stdout",
     "output_type": "stream",
     "text": [
      "False\n"
     ]
    }
   ],
   "source": [
    "is_vowel('Aa')"
   ]
  },
  {
   "cell_type": "markdown",
   "id": "aae27709",
   "metadata": {},
   "source": [
    "Write a function named is_valid_username that accepts a string as input. A valid username starts with a lowercase letter, and only consists of lowercase letters, numbers, or the _ character. It should also be no longer than 32 characters. The function should return either True or False depending on whether the passed string is a valid username.\n"
   ]
  },
  {
   "cell_type": "code",
   "execution_count": 248,
   "id": "5298fdc8",
   "metadata": {},
   "outputs": [],
   "source": [
    "def is_valid_username(string):\n",
    "    '''This function takes in a string and returns a boolean value of whether the string is a valid username.'''\n",
    "    if re.search(r'^[a-z][a-z0-9\\_]{,31}$', string):\n",
    "        return True\n",
    "    else:\n",
    "        return False"
   ]
  },
  {
   "cell_type": "code",
   "execution_count": 249,
   "id": "dc22c956",
   "metadata": {},
   "outputs": [
    {
     "data": {
      "text/plain": [
       "False"
      ]
     },
     "execution_count": 249,
     "metadata": {},
     "output_type": "execute_result"
    }
   ],
   "source": [
    "is_valid_username('aaaaaaaaaaaaaaaaaaaaaaaaaaaaaaaaa')"
   ]
  },
  {
   "cell_type": "code",
   "execution_count": 250,
   "id": "54f17b74",
   "metadata": {},
   "outputs": [
    {
     "data": {
      "text/plain": [
       "True"
      ]
     },
     "execution_count": 250,
     "metadata": {},
     "output_type": "execute_result"
    }
   ],
   "source": [
    "is_valid_username('heyhorse')"
   ]
  },
  {
   "cell_type": "code",
   "execution_count": 251,
   "id": "fadd7a49",
   "metadata": {},
   "outputs": [
    {
     "data": {
      "text/plain": [
       "False"
      ]
     },
     "execution_count": 251,
     "metadata": {},
     "output_type": "execute_result"
    }
   ],
   "source": [
    "is_valid_username('0_0')"
   ]
  },
  {
   "cell_type": "code",
   "execution_count": 252,
   "id": "b312ba5b",
   "metadata": {},
   "outputs": [
    {
     "data": {
      "text/plain": [
       "True"
      ]
     },
     "execution_count": 252,
     "metadata": {},
     "output_type": "execute_result"
    }
   ],
   "source": [
    "is_valid_username('i0_0i')"
   ]
  },
  {
   "cell_type": "code",
   "execution_count": 254,
   "id": "3b0e18cb",
   "metadata": {},
   "outputs": [
    {
     "data": {
      "text/plain": [
       "False"
      ]
     },
     "execution_count": 254,
     "metadata": {},
     "output_type": "execute_result"
    }
   ],
   "source": [
    "is_valid_username('1codeup')"
   ]
  },
  {
   "cell_type": "code",
   "execution_count": 255,
   "id": "83ea9b7d",
   "metadata": {},
   "outputs": [
    {
     "data": {
      "text/plain": [
       "False"
      ]
     },
     "execution_count": 255,
     "metadata": {},
     "output_type": "execute_result"
    }
   ],
   "source": [
    "is_valid_username('Codeup')"
   ]
  },
  {
   "cell_type": "code",
   "execution_count": 256,
   "id": "6d6b38f9",
   "metadata": {},
   "outputs": [
    {
     "data": {
      "text/plain": [
       "True"
      ]
     },
     "execution_count": 256,
     "metadata": {},
     "output_type": "execute_result"
    }
   ],
   "source": [
    "is_valid_username('codeup123')"
   ]
  },
  {
   "cell_type": "markdown",
   "id": "d9661fd9",
   "metadata": {},
   "source": [
    "Write a regular expression to capture phone numbers. It should match all of the following:\n",
    "\n",
    "\n",
    "- (210) 867 5309\n",
    "\n",
    "- +1 210.867.5309\n",
    "\n",
    "- 867-5309\n",
    "\n",
    "- 210-867-5309\n"
   ]
  },
  {
   "cell_type": "code",
   "execution_count": 258,
   "id": "ff42c536",
   "metadata": {},
   "outputs": [],
   "source": [
    "is_phone_number = r'^.\\d+([\\s\\.\\)-]+\\d+)+$'"
   ]
  },
  {
   "cell_type": "code",
   "execution_count": 259,
   "id": "0f6cb5cc",
   "metadata": {},
   "outputs": [
    {
     "data": {
      "text/plain": [
       "<re.Match object; span=(0, 14), match='(210) 867 5309'>"
      ]
     },
     "execution_count": 259,
     "metadata": {},
     "output_type": "execute_result"
    }
   ],
   "source": [
    "re.search(is_phone_number, '(210) 867 5309')"
   ]
  },
  {
   "cell_type": "code",
   "execution_count": 260,
   "id": "7eab41c3",
   "metadata": {},
   "outputs": [
    {
     "data": {
      "text/plain": [
       "<re.Match object; span=(0, 15), match='+1 210.867.5309'>"
      ]
     },
     "execution_count": 260,
     "metadata": {},
     "output_type": "execute_result"
    }
   ],
   "source": [
    "re.search(is_phone_number, '+1 210.867.5309')"
   ]
  },
  {
   "cell_type": "code",
   "execution_count": 261,
   "id": "b0024e32",
   "metadata": {},
   "outputs": [
    {
     "data": {
      "text/plain": [
       "<re.Match object; span=(0, 8), match='867-5309'>"
      ]
     },
     "execution_count": 261,
     "metadata": {},
     "output_type": "execute_result"
    }
   ],
   "source": [
    "re.search(is_phone_number, '867-5309')"
   ]
  },
  {
   "cell_type": "code",
   "execution_count": 262,
   "id": "693360f5",
   "metadata": {},
   "outputs": [
    {
     "data": {
      "text/plain": [
       "<re.Match object; span=(0, 12), match='210-867-5309'>"
      ]
     },
     "execution_count": 262,
     "metadata": {},
     "output_type": "execute_result"
    }
   ],
   "source": [
    "re.search(is_phone_number, '210-867-5309')"
   ]
  },
  {
   "cell_type": "markdown",
   "id": "d85e09b5",
   "metadata": {},
   "source": [
    "Use regular expressions to convert the dates below to the standardized year-month-day format.\n",
    "\n",
    "\n",
    "02/04/19\n",
    "\n",
    "02/05/19\n",
    "\n",
    "02/06/19\n",
    "\n",
    "02/07/19\n",
    "\n",
    "02/08/19\n",
    "\n",
    "02/09/19\n",
    "\n",
    "02/10/19"
   ]
  },
  {
   "cell_type": "code",
   "execution_count": 292,
   "id": "c5c8cc4e",
   "metadata": {},
   "outputs": [
    {
     "name": "stdout",
     "output_type": "stream",
     "text": [
      "2019-02-04\n"
     ]
    }
   ],
   "source": [
    "date_re = r'(\\d{2})'\n",
    "\n",
    "month, day, year = re.findall(date_re, '02/04/19')\n",
    "print(f'20{year}-{month}-{day}')"
   ]
  },
  {
   "cell_type": "code",
   "execution_count": 293,
   "id": "a2c586a0",
   "metadata": {},
   "outputs": [],
   "source": [
    "def standard_date(string):\n",
    "    date_re = r'(\\d{2})'\n",
    "    month, day, year = re.findall(date_re, string)\n",
    "    return f'20{year}-{month}-{day}'"
   ]
  },
  {
   "cell_type": "code",
   "execution_count": 294,
   "id": "ac2f7dec",
   "metadata": {},
   "outputs": [
    {
     "data": {
      "text/plain": [
       "'2019-02-05'"
      ]
     },
     "execution_count": 294,
     "metadata": {},
     "output_type": "execute_result"
    }
   ],
   "source": [
    "standard_date('02/05/19')"
   ]
  },
  {
   "cell_type": "code",
   "execution_count": 295,
   "id": "8d6b2edd",
   "metadata": {},
   "outputs": [
    {
     "data": {
      "text/plain": [
       "'2019-02-06'"
      ]
     },
     "execution_count": 295,
     "metadata": {},
     "output_type": "execute_result"
    }
   ],
   "source": [
    "standard_date('02/06/19')"
   ]
  },
  {
   "cell_type": "markdown",
   "id": "70af2331",
   "metadata": {},
   "source": [
    "Write a regex to extract the various parts of these logfile lines:\n",
    "\n",
    "\n",
    "GET /api/v1/sales?page=86 [16/Apr/2019:193452+0000] HTTP/1.1 {200} 510348 \"python-requests/2.21.0\" 97.105.19.58\n",
    "\n",
    "POST /users_accounts/file-upload [16/Apr/2019:193452+0000] HTTP/1.1 {201} 42 \"User-Agent: Mozilla/5.0 (X11; Fedora; Fedora; Linux x86_64) AppleWebKit/537.36 (KHTML, like Gecko) Chrome/73.0.3683.86 Safari/537.36\" 97.105.19.58\n",
    "\n",
    "GET /api/v1/items?page=3 [16/Apr/2019:193453+0000] HTTP/1.1 {429} 3561 \"python-requests/2.21.0\" 97.105.19.58\n"
   ]
  },
  {
   "cell_type": "code",
   "execution_count": 385,
   "id": "95ba9af2",
   "metadata": {},
   "outputs": [
    {
     "data": {
      "text/plain": [
       "<re.Match object; span=(0, 45), match='GET /api/v1/sales?page=86 [16/Apr/2019:193452'>"
      ]
     },
     "execution_count": 385,
     "metadata": {},
     "output_type": "execute_result"
    }
   ],
   "source": [
    "query_re = r'(\\w+)\\s(...{19})\\s(.\\d+.\\w+.\\d+.\\d+)'\n",
    "\n",
    "re.search(query_re, 'GET /api/v1/sales?page=86 [16/Apr/2019:193452+0000] HTTP/1.1 {200} 510348 \"python-requests/2.21.0\" 97.105.19.58')"
   ]
  },
  {
   "cell_type": "code",
   "execution_count": 388,
   "id": "d37c148b",
   "metadata": {},
   "outputs": [],
   "source": [
    "subject = 'GET /api/v1/sales?page=86 [16/Apr/2019:193452+0000] HTTP/1.1 {200} 510348 \"python-requests/2.21.0\" 97.105.19.58'\n",
    "subjects = subject.split(' ')"
   ]
  },
  {
   "cell_type": "code",
   "execution_count": 389,
   "id": "f47a11a0",
   "metadata": {},
   "outputs": [
    {
     "data": {
      "text/plain": [
       "['GET',\n",
       " '/api/v1/sales?page=86',\n",
       " '[16/Apr/2019:193452+0000]',\n",
       " 'HTTP/1.1',\n",
       " '{200}',\n",
       " '510348',\n",
       " '\"python-requests/2.21.0\"',\n",
       " '97.105.19.58']"
      ]
     },
     "execution_count": 389,
     "metadata": {},
     "output_type": "execute_result"
    }
   ],
   "source": [
    "subjects"
   ]
  },
  {
   "cell_type": "code",
   "execution_count": 400,
   "id": "c3d39662",
   "metadata": {},
   "outputs": [
    {
     "data": {
      "text/plain": [
       "['GET',\n",
       " '/api/v1/sales?page=86',\n",
       " '[16/Apr/2019:193452+0000]',\n",
       " 'HTTP/1.1',\n",
       " '{200}',\n",
       " '510348',\n",
       " '\"python-requests/2.21.0\"',\n",
       " '97.105.19.58']"
      ]
     },
     "execution_count": 400,
     "metadata": {},
     "output_type": "execute_result"
    }
   ],
   "source": [
    "subjects = re.split(r'\\s', subject)\n",
    "subjects"
   ]
  },
  {
   "cell_type": "code",
   "execution_count": 480,
   "id": "ad69db32",
   "metadata": {},
   "outputs": [],
   "source": [
    "keys = ['cmd', 'url', 'date', 'version', 'code', 'size', 'method', 'ip']"
   ]
  },
  {
   "cell_type": "code",
   "execution_count": 481,
   "id": "6a2c389f",
   "metadata": {},
   "outputs": [],
   "source": [
    "x = zip(keys, subjects)"
   ]
  },
  {
   "cell_type": "code",
   "execution_count": 482,
   "id": "5045b3fc",
   "metadata": {},
   "outputs": [],
   "source": [
    "import pandas as pd"
   ]
  },
  {
   "cell_type": "code",
   "execution_count": 483,
   "id": "93cf2941",
   "metadata": {},
   "outputs": [],
   "source": [
    "df = set(x)"
   ]
  },
  {
   "cell_type": "code",
   "execution_count": 484,
   "id": "10a4c824",
   "metadata": {},
   "outputs": [
    {
     "data": {
      "text/html": [
       "<div>\n",
       "<style scoped>\n",
       "    .dataframe tbody tr th:only-of-type {\n",
       "        vertical-align: middle;\n",
       "    }\n",
       "\n",
       "    .dataframe tbody tr th {\n",
       "        vertical-align: top;\n",
       "    }\n",
       "\n",
       "    .dataframe thead th {\n",
       "        text-align: right;\n",
       "    }\n",
       "</style>\n",
       "<table border=\"1\" class=\"dataframe\">\n",
       "  <thead>\n",
       "    <tr style=\"text-align: right;\">\n",
       "      <th></th>\n",
       "      <th>date</th>\n",
       "      <th>cmd</th>\n",
       "      <th>url</th>\n",
       "    </tr>\n",
       "  </thead>\n",
       "  <tbody>\n",
       "    <tr>\n",
       "      <th>1</th>\n",
       "      <td>97.105.19.58</td>\n",
       "      <td>POST /users_accounts/file-upload [16/Apr/2019:...</td>\n",
       "      <td>User-Agent: Mozilla/5.0 (X11; Fedora; Fedora; ...</td>\n",
       "    </tr>\n",
       "  </tbody>\n",
       "</table>\n",
       "</div>"
      ],
      "text/plain": [
       "0           date                                                cmd  \\\n",
       "1   97.105.19.58  POST /users_accounts/file-upload [16/Apr/2019:...   \n",
       "\n",
       "0                                                url  \n",
       "1  User-Agent: Mozilla/5.0 (X11; Fedora; Fedora; ...  "
      ]
     },
     "execution_count": 484,
     "metadata": {},
     "output_type": "execute_result"
    }
   ],
   "source": [
    "df = pd.DataFrame(df).set_index(0).T\n",
    "df"
   ]
  },
  {
   "cell_type": "code",
   "execution_count": 485,
   "id": "7fd2dafe",
   "metadata": {},
   "outputs": [],
   "source": [
    "subject = 'POST /users_accounts/file-upload [16/Apr/2019:193452+0000] HTTP/1.1 {201} 42 \"User-Agent: Mozilla/5.0 (X11; Fedora; Fedora; Linux x86_64) AppleWebKit/537.36 (KHTML, like Gecko) Chrome/73.0.3683.86 Safari/537.36\" 97.105.19.58'"
   ]
  },
  {
   "cell_type": "code",
   "execution_count": 540,
   "id": "c78f829d",
   "metadata": {},
   "outputs": [],
   "source": [
    "logfile_re = r'(?P<cmd>\\w+)\\s(?P<url>[a-z0-9\\/\\?\\=\\_\\-]+)\\s\\[(?P<date>[\\w\\/\\:\\+]+)\\]\\s(?P<version>[\\w\\/\\.]+)\\s\\{(?P<code>\\d+)\\}\\s(?P<size>\\d+)\\s\\\"(?P<method>.+)\\\"\\s(?P<ip>[\\d\\.]+)'"
   ]
  },
  {
   "cell_type": "code",
   "execution_count": 541,
   "id": "574792c2",
   "metadata": {},
   "outputs": [],
   "source": [
    "log2 = re.search(logfile_re, subject).groupdict()"
   ]
  },
  {
   "cell_type": "code",
   "execution_count": 542,
   "id": "a0276118",
   "metadata": {},
   "outputs": [
    {
     "data": {
      "text/plain": [
       "{'cmd': 'POST',\n",
       " 'url': '/users_accounts/file-upload',\n",
       " 'date': '16/Apr/2019:193452+0000',\n",
       " 'version': 'HTTP/1.1',\n",
       " 'code': '201',\n",
       " 'size': '42',\n",
       " 'method': 'User-Agent: Mozilla/5.0 (X11; Fedora; Fedora; Linux x86_64) AppleWebKit/537.36 (KHTML, like Gecko) Chrome/73.0.3683.86 Safari/537.36',\n",
       " 'ip': '97.105.19.58'}"
      ]
     },
     "execution_count": 542,
     "metadata": {},
     "output_type": "execute_result"
    }
   ],
   "source": [
    "log2"
   ]
  },
  {
   "cell_type": "code",
   "execution_count": null,
   "id": "dc417525",
   "metadata": {},
   "outputs": [],
   "source": []
  },
  {
   "cell_type": "code",
   "execution_count": null,
   "id": "0096ccbb",
   "metadata": {},
   "outputs": [],
   "source": []
  }
 ],
 "metadata": {
  "kernelspec": {
   "display_name": "Python 3 (ipykernel)",
   "language": "python",
   "name": "python3"
  },
  "language_info": {
   "codemirror_mode": {
    "name": "ipython",
    "version": 3
   },
   "file_extension": ".py",
   "mimetype": "text/x-python",
   "name": "python",
   "nbconvert_exporter": "python",
   "pygments_lexer": "ipython3",
   "version": "3.9.12"
  }
 },
 "nbformat": 4,
 "nbformat_minor": 5
}
